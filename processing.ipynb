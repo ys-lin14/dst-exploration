{
 "cells": [
  {
   "cell_type": "code",
   "execution_count": 116,
   "metadata": {},
   "outputs": [],
   "source": [
    "import pandas as pd\n",
    "from nltk.tokenize import word_tokenize\n",
    "from nltk.corpus import stopwords\n",
    "\n",
    "import string"
   ]
  },
  {
   "cell_type": "code",
   "execution_count": 132,
   "metadata": {},
   "outputs": [],
   "source": [
    "def remove_stopwords(tokens, stop_words):\n",
    "    filtered_tokens = [t for t in tokens if t not in stop_words]\n",
    "    return filtered_tokens\n",
    "\n",
    "def remove_punctuation(tokens): # PROBLEMO\n",
    "    filtered_tokens = [t for t in tokens if t not in string.punctuation]\n",
    "    return filtered_tokens\n",
    "\n",
    "def convert_to_lower(tokens):\n",
    "    converted_tokens = [t.lower() for t in tokens]\n",
    "    return converted_tokens\n",
    "\n",
    "def preprocess(review, stop_words):\n",
    "    review_tokens = word_tokenize(review, language='english', preserve_line=False)\n",
    "    \n",
    "    intermediate_tokens = remove_stopwords(review_tokens, stop_words)\n",
    "\n",
    "    # remove punctuation\n",
    "    final_test_review2 = remove_punctuation(filtered_test_review2)\n",
    "    print('\\n', final_test_review2, sep='')\n",
    "\n",
    "    # convert to lower\n",
    "    final_test_review2 = convert_to_lower(final_test_review2)\n",
    "    print('\\n', final_test_review2, sep='')\n",
    "    \n",
    "    return None\n",
    "\n",
    "def display_reviews(data):\n",
    "    for row in range(data.shape[0]):\n",
    "        print(data.loc[row, 'review'], '\\n\\n')"
   ]
  },
  {
   "cell_type": "code",
   "execution_count": null,
   "metadata": {},
   "outputs": [],
   "source": [
    "# load data\n",
    "review_data = pd.read_csv('data/review_data.csv')"
   ]
  },
  {
   "cell_type": "code",
   "execution_count": 79,
   "metadata": {},
   "outputs": [
    {
     "name": "stdout",
     "output_type": "stream",
     "text": [
      "There are a total of 10000 reviews.\n",
      "\n",
      "Recommended or Not:\n",
      "True     9074\n",
      "False     926\n",
      "Name: voted_up, dtype: int64\n"
     ]
    },
    {
     "data": {
      "text/html": [
       "<div>\n",
       "<style scoped>\n",
       "    .dataframe tbody tr th:only-of-type {\n",
       "        vertical-align: middle;\n",
       "    }\n",
       "\n",
       "    .dataframe tbody tr th {\n",
       "        vertical-align: top;\n",
       "    }\n",
       "\n",
       "    .dataframe thead th {\n",
       "        text-align: right;\n",
       "    }\n",
       "</style>\n",
       "<table border=\"1\" class=\"dataframe\">\n",
       "  <thead>\n",
       "    <tr style=\"text-align: right;\">\n",
       "      <th></th>\n",
       "      <th>steam_id</th>\n",
       "      <th>review</th>\n",
       "      <th>timestamp_created</th>\n",
       "      <th>voted_up</th>\n",
       "    </tr>\n",
       "  </thead>\n",
       "  <tbody>\n",
       "    <tr>\n",
       "      <th>0</th>\n",
       "      <td>76561198066184692</td>\n",
       "      <td>Survived a Deerclop raid Killed by a random fr...</td>\n",
       "      <td>1434424743</td>\n",
       "      <td>True</td>\n",
       "    </tr>\n",
       "    <tr>\n",
       "      <th>1</th>\n",
       "      <td>76561198101781146</td>\n",
       "      <td>Don't Starve is back is more fun than ever!   ...</td>\n",
       "      <td>1434337736</td>\n",
       "      <td>True</td>\n",
       "    </tr>\n",
       "    <tr>\n",
       "      <th>2</th>\n",
       "      <td>76561198041162914</td>\n",
       "      <td>Favorite survival game. I almost won it once.....</td>\n",
       "      <td>1466010582</td>\n",
       "      <td>True</td>\n",
       "    </tr>\n",
       "    <tr>\n",
       "      <th>3</th>\n",
       "      <td>76561198056008417</td>\n",
       "      <td>Easily the most enjoyable game I have ever pla...</td>\n",
       "      <td>1452657532</td>\n",
       "      <td>True</td>\n",
       "    </tr>\n",
       "    <tr>\n",
       "      <th>4</th>\n",
       "      <td>76561198143487092</td>\n",
       "      <td>Great for a group of kids to work together and...</td>\n",
       "      <td>1467918656</td>\n",
       "      <td>True</td>\n",
       "    </tr>\n",
       "  </tbody>\n",
       "</table>\n",
       "</div>"
      ],
      "text/plain": [
       "            steam_id                                             review  \\\n",
       "0  76561198066184692  Survived a Deerclop raid Killed by a random fr...   \n",
       "1  76561198101781146  Don't Starve is back is more fun than ever!   ...   \n",
       "2  76561198041162914  Favorite survival game. I almost won it once.....   \n",
       "3  76561198056008417  Easily the most enjoyable game I have ever pla...   \n",
       "4  76561198143487092  Great for a group of kids to work together and...   \n",
       "\n",
       "   timestamp_created  voted_up  \n",
       "0         1434424743      True  \n",
       "1         1434337736      True  \n",
       "2         1466010582      True  \n",
       "3         1452657532      True  \n",
       "4         1467918656      True  "
      ]
     },
     "execution_count": 79,
     "metadata": {},
     "output_type": "execute_result"
    }
   ],
   "source": [
    "print(\"There are a total of {0} reviews.\\n\".format(review_data.shape[0]))\n",
    "print(\"Recommended or Not:\\n\", review_data['voted_up'].value_counts(), sep='')\n",
    "\n",
    "review_data.head()"
   ]
  },
  {
   "cell_type": "code",
   "execution_count": 66,
   "metadata": {
    "scrolled": false
   },
   "outputs": [
    {
     "name": "stdout",
     "output_type": "stream",
     "text": [
      "Easily the most enjoyable game I have ever played. Each time you start a new world you make it slightly further than you did the last time only to die to a new aspect that you never knew before. Takes several times to get a mechanic, but once you do the you can finally start learning the other aspects of the game such as crafting and fighting. Playing with friends makes the game 1000x more enjoyable. This game is a deal breaker I see potential in losing friends over this game :p 11/10 would recommend \n",
      "\n",
      "\n",
      "The best food-based cartoonish survival game is now multiplayer?! I know, hard to believe. But it's true, its really out there for you to starve with your friends. Enjoy going insane, murdering giant cows, harvesting manure, and of course starving, now with an online companion of your choice! You don't know what you're doing? That's alright too! Statistics show that 99% of 1% of Don't Starve Together players don't know what they're doing or why they're doing it. So join the crowd, grab those flowers, and most importantly, Don't Starve! \n",
      "\n",
      "\n",
      "Don't starve together is a single or multiplayer survival game with a neat graphical style and gameplay.  You can build a home base, food and material farms, traps for mobs trying to kill you, clothes to help you survive summer and winter among many other nifty things!  Seasons have different effects on your world such as different mobs acting based on the current seasons, in summer wild fires can occur but fear not as you can protect your base by building ice throwing machines!  Mine rocks for ore for your base and tools but beware meteor fields! One hit and you're dead...  The fun is doubled in multiplayer mode with friends as many crazy things tend to happen... Trust me on this one!  Overall a very recommended purchase you will (most likely) not regret!  Also: Exterminate beefalo herds with traps and be the bad boy!  Update: Continuous content updates and events are what makes this game fun to play with friends even after a long time of having been bought! Thanks klei! \n",
      "\n",
      "\n",
      "I had a lot of fun playing this one with my friends. It can be completely unforgiving when you die (the default setting for servers is game over once everyone dies) or you can set it to be resurrected by clicking on the portal (endless). You can run around collecting things and trying not to die. The customization of how many of everything spawns in a server determines how easy or hard the game is and makes for good balance based on player experience level. The developers are consistently working on new DLC and content so it's worth coming back to. There's plenty of enemies to fight and things to build. There's seasons with different challenges to overcome (winter requires warm clothing, summer requires things to cool you off, etc). Mods are easy to implement into the game and keep the replayability high. Overall, a pretty decent game to play by yourself or with a bunch of friends. \n",
      "\n",
      "\n",
      "This is a great game! When I first got it (and the single player version as well) I could not stop playing it was just so much fun and i was so determned to make is past day 20.  I also like that you cna host a server and still play buy yourself so if you can't get the original game you can tide yourself over that way. Playing with people online can be great or hectic, they can help you or kill you but it's all fun and I highly recommend getting and playing this game and convincing your friends to do the same! \n",
      "\n",
      "\n"
     ]
    }
   ],
   "source": [
    "test_reviews = review_data[review_data['review'].astype(str).map(len) > 500].copy()\n",
    "test_reviews.reset_index(inplace=True)\n",
    "\n",
    "display_reviews(test_reviews.head())"
   ]
  },
  {
   "cell_type": "code",
   "execution_count": 111,
   "metadata": {
    "scrolled": false
   },
   "outputs": [
    {
     "name": "stdout",
     "output_type": "stream",
     "text": [
      "['Easily', 'the', 'most', 'enjoyable', 'game', 'I', 'have', 'ever', 'played', '.', 'Each', 'time', 'you', 'start', 'a', 'new', 'world', 'you', 'make', 'it', 'slightly', 'further', 'than', 'you', 'did', 'the', 'last', 'time', 'only', 'to', 'die', 'to', 'a', 'new', 'aspect', 'that', 'you', 'never', 'knew', 'before', '.', 'Takes', 'several', 'times', 'to', 'get', 'a', 'mechanic', ',', 'but', 'once', 'you', 'do', 'the', 'you', 'can', 'finally', 'start', 'learning', 'the', 'other', 'aspects', 'of', 'the', 'game', 'such', 'as', 'crafting', 'and', 'fighting', '.', 'Playing', 'with', 'friends', 'makes', 'the', 'game', '1000x', 'more', 'enjoyable', '.', 'This', 'game', 'is', 'a', 'deal', 'breaker', 'I', 'see', 'potential', 'in', 'losing', 'friends', 'over', 'this', 'game', ':', 'p', '11/10', 'would', 'recommend']\n",
      "\n",
      "['Easily', 'enjoyable', 'game', 'I', 'ever', 'played', '.', 'Each', 'time', 'start', 'new', 'world', 'make', 'slightly', 'last', 'time', 'die', 'new', 'aspect', 'never', 'knew', '.', 'Takes', 'several', 'times', 'get', 'mechanic', ',', 'finally', 'start', 'learning', 'aspects', 'game', 'crafting', 'fighting', '.', 'Playing', 'friends', 'makes', 'game', '1000x', 'enjoyable', '.', 'This', 'game', 'deal', 'breaker', 'I', 'see', 'potential', 'losing', 'friends', 'game', ':', 'p', '11/10', 'would', 'recommend']\n"
     ]
    }
   ],
   "source": [
    "# standard case\n",
    "\n",
    "# tokenize text\n",
    "test_review1 = word_tokenize(test_reviews.loc[0, 'review'], language='english', preserve_line=False)\n",
    "#test_review1 = WhitespaceTokenizer().tokenize(test_reviews.loc[0, 'review'])\n",
    "print(test_review1)\n",
    "\n",
    "# remove stopwords\n",
    "stop_words = set(stopwords.words('english'))\n",
    "\n",
    "filtered_test_review1 = remove_stopwords(test_review1, stop_words)\n",
    "print('\\n', filtered_test_review1, sep='')"
   ]
  },
  {
   "cell_type": "code",
   "execution_count": 133,
   "metadata": {},
   "outputs": [
    {
     "name": "stdout",
     "output_type": "stream",
     "text": [
      "Don't starve together is a single or multiplayer survival game with a neat graphical style and gameplay.  You can build a home base, food and material farms, traps for mobs trying to kill you, clothes to help you survive summer and winter among many other nifty things!  Seasons have different effects on your world such as different mobs acting based on the current seasons, in summer wild fires can occur but fear not as you can protect your base by building ice throwing machines!  Mine rocks for ore for your base and tools but beware meteor fields! One hit and you're dead...  The fun is doubled in multiplayer mode with friends as many crazy things tend to happen... Trust me on this one!  Overall a very recommended purchase you will (most likely) not regret!  Also: Exterminate beefalo herds with traps and be the bad boy!  Update: Continuous content updates and events are what makes this game fun to play with friends even after a long time of having been bought! Thanks klei! \n",
      "\n",
      "['Do', \"n't\", 'starve', 'together', 'is', 'a', 'single', 'or', 'multiplayer', 'survival', 'game', 'with', 'a', 'neat', 'graphical', 'style', 'and', 'gameplay', '.', 'You', 'can', 'build', 'a', 'home', 'base', ',', 'food', 'and', 'material', 'farms', ',', 'traps', 'for', 'mobs', 'trying', 'to', 'kill', 'you', ',', 'clothes', 'to', 'help', 'you', 'survive', 'summer', 'and', 'winter', 'among', 'many', 'other', 'nifty', 'things', '!', 'Seasons', 'have', 'different', 'effects', 'on', 'your', 'world', 'such', 'as', 'different', 'mobs', 'acting', 'based', 'on', 'the', 'current', 'seasons', ',', 'in', 'summer', 'wild', 'fires', 'can', 'occur', 'but', 'fear', 'not', 'as', 'you', 'can', 'protect', 'your', 'base', 'by', 'building', 'ice', 'throwing', 'machines', '!', 'Mine', 'rocks', 'for', 'ore', 'for', 'your', 'base', 'and', 'tools', 'but', 'beware', 'meteor', 'fields', '!', 'One', 'hit', 'and', 'you', \"'re\", 'dead', '...', 'The', 'fun', 'is', 'doubled', 'in', 'multiplayer', 'mode', 'with', 'friends', 'as', 'many', 'crazy', 'things', 'tend', 'to', 'happen', '...', 'Trust', 'me', 'on', 'this', 'one', '!', 'Overall', 'a', 'very', 'recommended', 'purchase', 'you', 'will', '(', 'most', 'likely', ')', 'not', 'regret', '!', 'Also', ':', 'Exterminate', 'beefalo', 'herds', 'with', 'traps', 'and', 'be', 'the', 'bad', 'boy', '!', 'Update', ':', 'Continuous', 'content', 'updates', 'and', 'events', 'are', 'what', 'makes', 'this', 'game', 'fun', 'to', 'play', 'with', 'friends', 'even', 'after', 'a', 'long', 'time', 'of', 'having', 'been', 'bought', '!', 'Thanks', 'klei', '!']\n",
      "\n",
      "['Do', \"n't\", 'starve', 'together', 'single', 'multiplayer', 'survival', 'game', 'neat', 'graphical', 'style', 'gameplay', '.', 'You', 'build', 'home', 'base', ',', 'food', 'material', 'farms', ',', 'traps', 'mobs', 'trying', 'kill', ',', 'clothes', 'help', 'survive', 'summer', 'winter', 'among', 'many', 'nifty', 'things', '!', 'Seasons', 'different', 'effects', 'world', 'different', 'mobs', 'acting', 'based', 'current', 'seasons', ',', 'summer', 'wild', 'fires', 'occur', 'fear', 'protect', 'base', 'building', 'ice', 'throwing', 'machines', '!', 'Mine', 'rocks', 'ore', 'base', 'tools', 'beware', 'meteor', 'fields', '!', 'One', 'hit', \"'re\", 'dead', '...', 'The', 'fun', 'doubled', 'multiplayer', 'mode', 'friends', 'many', 'crazy', 'things', 'tend', 'happen', '...', 'Trust', 'one', '!', 'Overall', 'recommended', 'purchase', '(', 'likely', ')', 'regret', '!', 'Also', ':', 'Exterminate', 'beefalo', 'herds', 'traps', 'bad', 'boy', '!', 'Update', ':', 'Continuous', 'content', 'updates', 'events', 'makes', 'game', 'fun', 'play', 'friends', 'even', 'long', 'time', 'bought', '!', 'Thanks', 'klei', '!']\n",
      "\n",
      "['Do', \"n't\", 'starve', 'together', 'single', 'multiplayer', 'survival', 'game', 'neat', 'graphical', 'style', 'gameplay', 'You', 'build', 'home', 'base', 'food', 'material', 'farms', 'traps', 'mobs', 'trying', 'kill', 'clothes', 'help', 'survive', 'summer', 'winter', 'among', 'many', 'nifty', 'things', 'Seasons', 'different', 'effects', 'world', 'different', 'mobs', 'acting', 'based', 'current', 'seasons', 'summer', 'wild', 'fires', 'occur', 'fear', 'protect', 'base', 'building', 'ice', 'throwing', 'machines', 'Mine', 'rocks', 'ore', 'base', 'tools', 'beware', 'meteor', 'fields', 'One', 'hit', \"'re\", 'dead', '...', 'The', 'fun', 'doubled', 'multiplayer', 'mode', 'friends', 'many', 'crazy', 'things', 'tend', 'happen', '...', 'Trust', 'one', 'Overall', 'recommended', 'purchase', 'likely', 'regret', 'Also', 'Exterminate', 'beefalo', 'herds', 'traps', 'bad', 'boy', 'Update', 'Continuous', 'content', 'updates', 'events', 'makes', 'game', 'fun', 'play', 'friends', 'even', 'long', 'time', 'bought', 'Thanks', 'klei']\n",
      "\n",
      "['do', \"n't\", 'starve', 'together', 'single', 'multiplayer', 'survival', 'game', 'neat', 'graphical', 'style', 'gameplay', 'you', 'build', 'home', 'base', 'food', 'material', 'farms', 'traps', 'mobs', 'trying', 'kill', 'clothes', 'help', 'survive', 'summer', 'winter', 'among', 'many', 'nifty', 'things', 'seasons', 'different', 'effects', 'world', 'different', 'mobs', 'acting', 'based', 'current', 'seasons', 'summer', 'wild', 'fires', 'occur', 'fear', 'protect', 'base', 'building', 'ice', 'throwing', 'machines', 'mine', 'rocks', 'ore', 'base', 'tools', 'beware', 'meteor', 'fields', 'one', 'hit', \"'re\", 'dead', '...', 'the', 'fun', 'doubled', 'multiplayer', 'mode', 'friends', 'many', 'crazy', 'things', 'tend', 'happen', '...', 'trust', 'one', 'overall', 'recommended', 'purchase', 'likely', 'regret', 'also', 'exterminate', 'beefalo', 'herds', 'traps', 'bad', 'boy', 'update', 'continuous', 'content', 'updates', 'events', 'makes', 'game', 'fun', 'play', 'friends', 'even', 'long', 'time', 'bought', 'thanks', 'klei']\n"
     ]
    }
   ],
   "source": [
    "# conjunction case\n",
    "\n",
    "# tokenize text\n",
    "print(test_reviews.loc[2, 'review'],'\\n')\n",
    "\n",
    "test_review2 = word_tokenize(test_reviews.loc[2, 'review'], language='english', preserve_line=False)\n",
    "#test_review2 = WhitespaceTokenizer().tokenize(test_reviews.loc[2, 'review'])\n",
    "print(test_review2)\n",
    "\n",
    "# remove stopwords\n",
    "filtered_test_review2 = remove_stopwords(test_review2, stop_words)\n",
    "print('\\n', filtered_test_review2, sep='')\n",
    "\n",
    "# remove punctuation\n",
    "final_test_review2 = remove_punctuation(filtered_test_review2)\n",
    "print('\\n', final_test_review2, sep='')\n",
    "\n",
    "# convert to lower\n",
    "final_test_review2 = convert_to_lower(final_test_review2)\n",
    "print('\\n', final_test_review2, sep='')"
   ]
  },
  {
   "cell_type": "code",
   "execution_count": null,
   "metadata": {},
   "outputs": [],
   "source": []
  },
  {
   "cell_type": "code",
   "execution_count": 119,
   "metadata": {},
   "outputs": [
    {
     "data": {
      "text/plain": [
       "'TO DO\\n    process data:\\n        tokenize\\n        \\n        lowercase\\n        stemming/lematization\\n        stopword removal\\n        normalization\\n        noise removal\\n'"
      ]
     },
     "execution_count": 119,
     "metadata": {},
     "output_type": "execute_result"
    }
   ],
   "source": [
    "\"\"\"TO DO\n",
    "    process data:\n",
    "        tokenize\n",
    "        \n",
    "        lowercase\n",
    "        stemming/lematization\n",
    "        stopword removal\n",
    "        normalization\n",
    "        noise removal\n",
    "\"\"\""
   ]
  }
 ],
 "metadata": {
  "kernelspec": {
   "display_name": "Python 3",
   "language": "python",
   "name": "python3"
  },
  "language_info": {
   "codemirror_mode": {
    "name": "ipython",
    "version": 3
   },
   "file_extension": ".py",
   "mimetype": "text/x-python",
   "name": "python",
   "nbconvert_exporter": "python",
   "pygments_lexer": "ipython3",
   "version": "3.6.6"
  }
 },
 "nbformat": 4,
 "nbformat_minor": 2
}
