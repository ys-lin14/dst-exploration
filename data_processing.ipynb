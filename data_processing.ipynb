{
 "cells": [
  {
   "cell_type": "code",
   "execution_count": 1,
   "metadata": {},
   "outputs": [],
   "source": [
    "import pandas as pd\n",
    "from nltk.tokenize import word_tokenize\n",
    "from nltk.corpus import stopwords\n",
    "import string"
   ]
  },
  {
   "cell_type": "code",
   "execution_count": 2,
   "metadata": {},
   "outputs": [],
   "source": [
    "def remove_stopwords(tokens):\n",
    "    stop_words = set(stopwords.words('english'))\n",
    "    filtered_tokens = [t for t in tokens if t not in stop_words]\n",
    "    return filtered_tokens\n",
    "\n",
    "def remove_punctuation(tokens): # PROBLEMO\n",
    "    filtered_tokens = [t for t in tokens if t not in string.punctuation and t != \"...\"]\n",
    "    return filtered_tokens\n",
    "\n",
    "def convert_to_lower(tokens):\n",
    "    converted_tokens = [t.lower() for t in tokens]\n",
    "    return converted_tokens\n",
    "\n",
    "def preprocess(review):\n",
    "    review_tokens = word_tokenize(review, language='english', preserve_line=False)\n",
    "    intermediate_tokens = remove_stopwords(review_tokens)\n",
    "    intermediate_tokens = remove_punctuation(intermediate_tokens)\n",
    "    preprocessed_tokens = convert_to_lower(intermediate_tokens)\n",
    "    \n",
    "    return preprocessed_tokens\n",
    "\n",
    "def display_reviews(data):\n",
    "    for row in range(data.shape[0]):\n",
    "        print(data.loc[row, 'review'], '\\n\\n')"
   ]
  },
  {
   "cell_type": "code",
   "execution_count": 3,
   "metadata": {},
   "outputs": [],
   "source": [
    "# load data\n",
    "review_data = pd.read_csv('data/review_data.csv')"
   ]
  },
  {
   "cell_type": "code",
   "execution_count": 4,
   "metadata": {},
   "outputs": [],
   "source": [
    "# process data - look further into stemming / lemmatization / noise removal (?)\n",
    "preprocessed_reviews = review_data.copy()\n",
    "preprocessed_reviews['review'] = preprocessed_reviews['review'].astype(str).apply(preprocess)"
   ]
  },
  {
   "cell_type": "code",
   "execution_count": 5,
   "metadata": {},
   "outputs": [],
   "source": [
    "# write back processed data\n",
    "preprocessed_reviews.to_csv('data/preprocessed_reviews.csv')"
   ]
  },
  {
   "cell_type": "code",
   "execution_count": 11,
   "metadata": {
    "scrolled": false
   },
   "outputs": [
    {
     "name": "stdout",
     "output_type": "stream",
     "text": [
      "There are a total of 10000 reviews.\n",
      "\n",
      "Was recommended:\n",
      "True     9074\n",
      "False     926\n",
      "Name: voted_up, dtype: int64\n"
     ]
    },
    {
     "data": {
      "text/html": [
       "<div>\n",
       "<style scoped>\n",
       "    .dataframe tbody tr th:only-of-type {\n",
       "        vertical-align: middle;\n",
       "    }\n",
       "\n",
       "    .dataframe tbody tr th {\n",
       "        vertical-align: top;\n",
       "    }\n",
       "\n",
       "    .dataframe thead th {\n",
       "        text-align: right;\n",
       "    }\n",
       "</style>\n",
       "<table border=\"1\" class=\"dataframe\">\n",
       "  <thead>\n",
       "    <tr style=\"text-align: right;\">\n",
       "      <th></th>\n",
       "      <th>steam_id</th>\n",
       "      <th>review</th>\n",
       "      <th>timestamp_created</th>\n",
       "      <th>voted_up</th>\n",
       "    </tr>\n",
       "  </thead>\n",
       "  <tbody>\n",
       "    <tr>\n",
       "      <th>0</th>\n",
       "      <td>76561198066184692</td>\n",
       "      <td>[survived, deerclop, raid, killed, random, fro...</td>\n",
       "      <td>1434424743</td>\n",
       "      <td>True</td>\n",
       "    </tr>\n",
       "    <tr>\n",
       "      <th>1</th>\n",
       "      <td>76561198101781146</td>\n",
       "      <td>[do, n't, starve, back, fun, ever, here, posit...</td>\n",
       "      <td>1434337736</td>\n",
       "      <td>True</td>\n",
       "    </tr>\n",
       "    <tr>\n",
       "      <th>2</th>\n",
       "      <td>76561198041162914</td>\n",
       "      <td>[favorite, survival, game, i, almost, i, starv...</td>\n",
       "      <td>1466010582</td>\n",
       "      <td>True</td>\n",
       "    </tr>\n",
       "    <tr>\n",
       "      <th>3</th>\n",
       "      <td>76561198056008417</td>\n",
       "      <td>[easily, enjoyable, game, i, ever, played, eac...</td>\n",
       "      <td>1452657532</td>\n",
       "      <td>True</td>\n",
       "    </tr>\n",
       "    <tr>\n",
       "      <th>4</th>\n",
       "      <td>76561198143487092</td>\n",
       "      <td>[great, group, kids, work, together, gives, so...</td>\n",
       "      <td>1467918656</td>\n",
       "      <td>True</td>\n",
       "    </tr>\n",
       "  </tbody>\n",
       "</table>\n",
       "</div>"
      ],
      "text/plain": [
       "            steam_id                                             review  \\\n",
       "0  76561198066184692  [survived, deerclop, raid, killed, random, fro...   \n",
       "1  76561198101781146  [do, n't, starve, back, fun, ever, here, posit...   \n",
       "2  76561198041162914  [favorite, survival, game, i, almost, i, starv...   \n",
       "3  76561198056008417  [easily, enjoyable, game, i, ever, played, eac...   \n",
       "4  76561198143487092  [great, group, kids, work, together, gives, so...   \n",
       "\n",
       "   timestamp_created  voted_up  \n",
       "0         1434424743      True  \n",
       "1         1434337736      True  \n",
       "2         1466010582      True  \n",
       "3         1452657532      True  \n",
       "4         1467918656      True  "
      ]
     },
     "metadata": {},
     "output_type": "display_data"
    },
    {
     "name": "stdout",
     "output_type": "stream",
     "text": [
      "['survived', 'deerclop', 'raid', 'killed', 'random', 'frog', '10frograin/10'] \n",
      "\n",
      "\n",
      "['do', \"n't\", 'starve', 'back', 'fun', 'ever', 'here', 'positives', '-now', 'get', 'die', 'friends', '-you', 'get', 'murdered', \"'friends\", 'great', 'game', 'dorito+mtn', 'dew/9,000', 'p.s', 'you', 'also', 'haunted', 'friend', 'die', 'insanity', 'well', 'friend', 'die', \"'s\", 'ok'] \n",
      "\n",
      "\n",
      "['favorite', 'survival', 'game', 'i', 'almost', 'i', 'starved', 'death'] \n",
      "\n",
      "\n",
      "['easily', 'enjoyable', 'game', 'i', 'ever', 'played', 'each', 'time', 'start', 'new', 'world', 'make', 'slightly', 'last', 'time', 'die', 'new', 'aspect', 'never', 'knew', 'takes', 'several', 'times', 'get', 'mechanic', 'finally', 'start', 'learning', 'aspects', 'game', 'crafting', 'fighting', 'playing', 'friends', 'makes', 'game', '1000x', 'enjoyable', 'this', 'game', 'deal', 'breaker', 'i', 'see', 'potential', 'losing', 'friends', 'game', 'p', '11/10', 'would', 'recommend'] \n",
      "\n",
      "\n",
      "['great', 'group', 'kids', 'work', 'together', 'gives', 'something', 'new', 'besides', 'minecraft', 'fun', 'whole', 'family'] \n",
      "\n",
      "\n"
     ]
    }
   ],
   "source": [
    "# data exploration\n",
    "print(\"There are a total of {0} reviews.\\n\".format(preprocessed_reviews.shape[0]))\n",
    "print(\"Was recommended:\\n\", preprocessed_reviews['voted_up'].value_counts(), sep='')\n",
    "\n",
    "display(preprocessed_reviews.head())\n",
    "display_reviews(preprocessed_reviews.head())"
   ]
  }
 ],
 "metadata": {
  "kernelspec": {
   "display_name": "Python 3",
   "language": "python",
   "name": "python3"
  },
  "language_info": {
   "codemirror_mode": {
    "name": "ipython",
    "version": 3
   },
   "file_extension": ".py",
   "mimetype": "text/x-python",
   "name": "python",
   "nbconvert_exporter": "python",
   "pygments_lexer": "ipython3",
   "version": "3.6.6"
  }
 },
 "nbformat": 4,
 "nbformat_minor": 2
}
