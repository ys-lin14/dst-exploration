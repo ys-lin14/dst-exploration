{
 "cells": [
  {
   "cell_type": "code",
   "execution_count": 1,
   "metadata": {},
   "outputs": [],
   "source": [
    "import os.path\n",
    "from pathlib import Path\n",
    "import pandas as pd\n",
    "from nltk.tokenize import word_tokenize\n",
    "from nltk.corpus import stopwords\n",
    "import string"
   ]
  },
  {
   "cell_type": "code",
   "execution_count": 2,
   "metadata": {},
   "outputs": [],
   "source": [
    "def initialize_preprocessed_data():\n",
    "    \"\"\"Create an empty csv file preprocessed data\n",
    "\n",
    "    Args:\n",
    "        None\n",
    "        \n",
    "    Returns:\n",
    "        None\n",
    "    \"\"\"\n",
    "    \n",
    "    file = Path('data/preprocessed_review_data.csv')\n",
    "    \n",
    "    if (file.exists()):\n",
    "        print(\"preprocessed data already exists\")\n",
    "    else:\n",
    "        column_names = ['steam_id', 'review', 'timestamp_created', 'voted_up']\n",
    "\n",
    "        preprocessed_data = pd.DataFrame(columns = column_names)\n",
    "        preprocessed_data.to_csv('data/preprocessed_review_data.csv', index=False)\n",
    "        print(\"preprocessed data initialized\")\n",
    "    \n",
    "def remove_stopwords(tokens):\n",
    "    stop_words = set(stopwords.words('english'))\n",
    "    filtered_tokens = [t for t in tokens if t not in stop_words]\n",
    "    return filtered_tokens\n",
    "\n",
    "def remove_punctuation(tokens): # PROBLEMO\n",
    "    filtered_tokens = [t for t in tokens if t not in string.punctuation and t != \"...\"]\n",
    "    return filtered_tokens\n",
    "\n",
    "def preprocess_review(review):\n",
    "    \"\"\"Preprocess user reviews by tokenizing them, removing stopwords, punctuation \n",
    "    along with converting the text to lowercase\n",
    "    \n",
    "    Args: \n",
    "        review (str): the user review to be processed\n",
    "    \n",
    "    Returns:\n",
    "        processed_tokens (array): contains the processed review\n",
    "    \n",
    "    \"\"\"\n",
    "    \n",
    "    review_tokens = word_tokenize(review.lower(), language='english', preserve_line=False)\n",
    "    filtered_tokens = remove_stopwords(review_tokens)\n",
    "    preprocessed_tokens = remove_punctuation(filtered_tokens)\n",
    "    return preprocessed_tokens\n",
    "\n",
    "def preprocess(data):\n",
    "    preprocessed_data = data.copy()\n",
    "    preprocessed_data['review'] = preprocessed_data['review'].astype(str).apply(preprocess_review)\n",
    "    return preprocessed_data\n",
    "\n",
    "\n",
    "def update_preprocessed_data():\n",
    "    \"\"\"Create a backup of the preprocessed data and update it \n",
    "    \n",
    "    Args:\n",
    "        None\n",
    "         \n",
    "    Returns:\n",
    "        None\n",
    "    \"\"\"\n",
    "    \n",
    "    preprocessed_data = pd.read_csv('data/preprocessed_review_data.csv')\n",
    "    preprocessed_shape = preprocessed_data.shape[0]\n",
    "    \n",
    "    cleansed_data = pd.read_csv('data/review_data.csv')\n",
    "    cleansed_shape = cleansed_data.shape[0]\n",
    "    \n",
    "        \n",
    "    if (preprocessed_shape == cleansed_shape):\n",
    "        print(\"no new data to preprocess\")\n",
    "        return None\n",
    "    else:\n",
    "        preprocessed_data.to_csv('data/backup_data/preprocessed_review_data_backup.csv', index=False)\n",
    "\n",
    "        new_preprocessed_data = preprocess(cleansed_data[preprocessed_shape:])\n",
    "        updated_data = preprocessed_data.append(new_preprocessed_data, ignore_index=True)\n",
    "        updated_data.to_csv('data/preprocessed_review_data.csv', index=False)\n",
    "\n",
    "def display_reviews(data):\n",
    "    for row in range(data.shape[0]):\n",
    "        print(data.loc[row, 'review'], '\\n')"
   ]
  },
  {
   "cell_type": "code",
   "execution_count": 3,
   "metadata": {},
   "outputs": [
    {
     "name": "stdout",
     "output_type": "stream",
     "text": [
      "preprocessed data already exists\n"
     ]
    }
   ],
   "source": [
    "initialize_preprocessed_data()"
   ]
  },
  {
   "cell_type": "code",
   "execution_count": 4,
   "metadata": {},
   "outputs": [],
   "source": [
    "update_preprocessed_data()"
   ]
  },
  {
   "cell_type": "code",
   "execution_count": 5,
   "metadata": {
    "scrolled": false
   },
   "outputs": [
    {
     "data": {
      "text/html": [
       "<div>\n",
       "<style scoped>\n",
       "    .dataframe tbody tr th:only-of-type {\n",
       "        vertical-align: middle;\n",
       "    }\n",
       "\n",
       "    .dataframe tbody tr th {\n",
       "        vertical-align: top;\n",
       "    }\n",
       "\n",
       "    .dataframe thead th {\n",
       "        text-align: right;\n",
       "    }\n",
       "</style>\n",
       "<table border=\"1\" class=\"dataframe\">\n",
       "  <thead>\n",
       "    <tr style=\"text-align: right;\">\n",
       "      <th></th>\n",
       "      <th>steam_id</th>\n",
       "      <th>review</th>\n",
       "      <th>timestamp_created</th>\n",
       "      <th>voted_up</th>\n",
       "    </tr>\n",
       "  </thead>\n",
       "  <tbody>\n",
       "    <tr>\n",
       "      <th>0</th>\n",
       "      <td>76561198066184692</td>\n",
       "      <td>['survived', 'deerclop', 'raid', 'killed', 'ra...</td>\n",
       "      <td>1434424743</td>\n",
       "      <td>True</td>\n",
       "    </tr>\n",
       "    <tr>\n",
       "      <th>1</th>\n",
       "      <td>76561198101781146</td>\n",
       "      <td>[\"n't\", 'starve', 'back', 'fun', 'ever', 'posi...</td>\n",
       "      <td>1434337736</td>\n",
       "      <td>True</td>\n",
       "    </tr>\n",
       "    <tr>\n",
       "      <th>2</th>\n",
       "      <td>76561198041162914</td>\n",
       "      <td>['favorite', 'survival', 'game', 'almost', 'st...</td>\n",
       "      <td>1466010582</td>\n",
       "      <td>True</td>\n",
       "    </tr>\n",
       "    <tr>\n",
       "      <th>3</th>\n",
       "      <td>76561198056008417</td>\n",
       "      <td>['easily', 'enjoyable', 'game', 'ever', 'playe...</td>\n",
       "      <td>1452657532</td>\n",
       "      <td>True</td>\n",
       "    </tr>\n",
       "    <tr>\n",
       "      <th>4</th>\n",
       "      <td>76561198143487092</td>\n",
       "      <td>['great', 'group', 'kids', 'work', 'together',...</td>\n",
       "      <td>1467918656</td>\n",
       "      <td>True</td>\n",
       "    </tr>\n",
       "  </tbody>\n",
       "</table>\n",
       "</div>"
      ],
      "text/plain": [
       "            steam_id                                             review  \\\n",
       "0  76561198066184692  ['survived', 'deerclop', 'raid', 'killed', 'ra...   \n",
       "1  76561198101781146  [\"n't\", 'starve', 'back', 'fun', 'ever', 'posi...   \n",
       "2  76561198041162914  ['favorite', 'survival', 'game', 'almost', 'st...   \n",
       "3  76561198056008417  ['easily', 'enjoyable', 'game', 'ever', 'playe...   \n",
       "4  76561198143487092  ['great', 'group', 'kids', 'work', 'together',...   \n",
       "\n",
       "   timestamp_created  voted_up  \n",
       "0         1434424743      True  \n",
       "1         1434337736      True  \n",
       "2         1466010582      True  \n",
       "3         1452657532      True  \n",
       "4         1467918656      True  "
      ]
     },
     "metadata": {},
     "output_type": "display_data"
    },
    {
     "name": "stdout",
     "output_type": "stream",
     "text": [
      "['survived', 'deerclop', 'raid', 'killed', 'random', 'frog', '10frograin/10'] \n",
      "\n",
      "[\"n't\", 'starve', 'back', 'fun', 'ever', 'positives', '-now', 'get', 'die', 'friends', '-you', 'get', 'murdered', \"'friends\", 'great', 'game', 'dorito+mtn', 'dew/9,000', 'p.s', 'also', 'haunted', 'friend', 'die', 'insanity', 'well', 'friend', 'die', \"'s\", 'ok'] \n",
      "\n",
      "['favorite', 'survival', 'game', 'almost', 'starved', 'death'] \n",
      "\n",
      "['easily', 'enjoyable', 'game', 'ever', 'played', 'time', 'start', 'new', 'world', 'make', 'slightly', 'last', 'time', 'die', 'new', 'aspect', 'never', 'knew', 'takes', 'several', 'times', 'get', 'mechanic', 'finally', 'start', 'learning', 'aspects', 'game', 'crafting', 'fighting', 'playing', 'friends', 'makes', 'game', '1000x', 'enjoyable', 'game', 'deal', 'breaker', 'see', 'potential', 'losing', 'friends', 'game', 'p', '11/10', 'would', 'recommend'] \n",
      "\n",
      "['great', 'group', 'kids', 'work', 'together', 'gives', 'something', 'new', 'besides', 'minecraft', 'fun', 'whole', 'family'] \n",
      "\n"
     ]
    }
   ],
   "source": [
    "# skip processing and view a sample of preprocessed data\n",
    "preprocessed_reviews = pd.read_csv('data/preprocessed_review_data.csv')\n",
    "\n",
    "display(preprocessed_reviews.head())\n",
    "display_reviews(preprocessed_reviews.head())"
   ]
  }
 ],
 "metadata": {
  "kernelspec": {
   "display_name": "Python 3",
   "language": "python",
   "name": "python3"
  },
  "language_info": {
   "codemirror_mode": {
    "name": "ipython",
    "version": 3
   },
   "file_extension": ".py",
   "mimetype": "text/x-python",
   "name": "python",
   "nbconvert_exporter": "python",
   "pygments_lexer": "ipython3",
   "version": "3.6.6"
  }
 },
 "nbformat": 4,
 "nbformat_minor": 2
}
